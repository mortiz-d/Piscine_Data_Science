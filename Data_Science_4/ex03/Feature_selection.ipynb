{
 "cells": [
  {
   "cell_type": "markdown",
   "metadata": {},
   "source": [
    "# VIF (Variance Inflation Factor)"
   ]
  },
  {
   "cell_type": "markdown",
   "metadata": {},
   "source": [
    "El VIF es una medida que nos indica cuánto aumenta la varianza de un coeficiente de regresión debido a la colinealidad con otras variables independientes. El VIF se calcula con la siguiente fórmula:\n",
    "$$\n",
    "VIF_j = \\frac{1}{1 - R_j^2}\n",
    "$$\n",
    "Esta es la fórmula estándar para calcular el Variance Inflation Factor (VIF) de la variable **j**, donde\n",
    "- VIF_j es el **Variance Inflation Factor** para la variable \n",
    "- R_j^2 es el **coeficiente de determinación** de la regresión de la variable j sobre todas las otras variables independientes en el modelo.\n",
    "\n",
    "Cuando aplicamos la formula y obtenemos el valor de VIF podemos determinar con la siguiente tabla la colinealidad de la columna\n",
    "| **Rango de VIF** | **Interpretación**                                                                                                    | **Impacto en el modelo**                                                                                                                                                       |\n",
    "|------------------|------------------------------------------------------------------------------------------------------------------------|--------------------------------------------------------------------------------------------------------------------------------------------------------------------------------|\n",
    "| **VIF == 1**      | No hay colinealidad entre las variables.                                                                                | Las variables son completamente independientes entre sí. No hay redundancia en la información que cada una aporta al modelo. Los coeficientes estimados son confiables y estables. |\n",
    "| **VIF <= 5**  | Colinealidad moderada entre algunas variables, pero no es preocupante.                                                  | Las variables tienen algo de correlación, pero no es lo suficientemente fuerte como para causar problemas graves. El modelo sigue siendo confiable y los coeficientes son estables. |\n",
    "| **VIF > 5 && VIF <= 10** | Alta colinealidad. Las variables están altamente correlacionadas entre sí, lo que puede generar problemas serios.        | La alta colinealidad provoca que los coeficientes sean **inestables y difíciles de interpretar**. Esto se debe a que pequeños cambios en los datos pueden causar grandes fluctuaciones en los coeficientes. Esto **incrementa la varianza** de los coeficientes, haciendo que el modelo sea más sensible a errores de predicción. |\n",
    "| **VIF >> 10**    | Muy alta colinealidad. Existe una fuerte redundancia entre las variables, lo que afecta negativamente al modelo.         | El modelo es probablemente **inestable**. Los coeficientes tienen **alta varianza** y no reflejan correctamente las relaciones entre las variables. Las predicciones y la interpretación se ven gravemente afectadas. Se recomienda eliminar o combinar variables correlacionadas. |\n",
    "\n",
    "### Objetivo de analizar el VIF\n",
    "\n",
    "El objetivo principal de determinar la **colinealidad** de las variables mediante el VIF es **reducir la probabilidad de generar modelos inestables**, mejorando la precisión y la interpretabilidad del modelo de regresión. Si el VIF es alto, las estimaciones de los coeficientes pueden volverse muy **sensibles a pequeños cambios** en los datos, lo que puede **afectar negativamente la calidad del modelo**.\n",
    "\n",
    "### ¿Qué hacer cuando el VIF es alto?\n",
    "\n",
    "1. **Eliminar variables colineales:** Si encuentras que ciertas variables están altamente correlacionadas, considera eliminar una de ellas.\n",
    "2. **Combinación de variables:** Si las variables correlacionadas representan lo mismo, intenta combinarlas o crear una nueva variable que las represente a todas.\n",
    "3. **Uso de regularización:** Si no puedes eliminar variables, usa técnicas de **regularización** como **Ridge** o **Lasso**, que ayudan a reducir la influencia de las variables altamente correlacionadas.\n",
    "4. **Análisis de Componentes Principales (PCA):** Esta técnica puede ayudar a transformar las variables correlacionadas en un conjunto de componentes ortogonales, lo que puede mejorar la estabilidad del modelo.\n",
    "\n"
   ]
  },
  {
   "cell_type": "markdown",
   "metadata": {},
   "source": [
    "## Importing libraries"
   ]
  },
  {
   "cell_type": "code",
   "execution_count": 22,
   "metadata": {
    "vscode": {
     "languageId": "plaintext"
    }
   },
   "outputs": [],
   "source": [
    "from sklearn.linear_model import LinearRegression\n",
    "from sklearn.linear_model import LassoCV\n",
    "from sklearn.linear_model import RidgeCV\n",
    "import pandas as pd\n",
    "from sklearn.preprocessing import StandardScaler"
   ]
  },
  {
   "cell_type": "markdown",
   "metadata": {},
   "source": [
    "## Metodo para calcular VIF con un modelo de Regression Lineal"
   ]
  },
  {
   "cell_type": "code",
   "execution_count": 33,
   "metadata": {},
   "outputs": [],
   "source": [
    " def calculateVIF(var_predictoras_df):\n",
    "     var_pred_labels = list(var_predictoras_df.columns) #Sacamos las labels para las variables\n",
    "     num_var_pred = len(var_pred_labels)\n",
    "    \n",
    "     lr_model = LinearRegression() #Declaramos el modelo de regression\n",
    "    \n",
    "     result = pd.DataFrame(index = ['VIF'], columns = var_pred_labels, dtype=float)\n",
    "     result = result.fillna(0)\n",
    "    \n",
    "     for ite in range(num_var_pred):   #En este bucle comparamos la influencia de una columna contra el resto de columnas\n",
    "         x_features = var_pred_labels[:] #Sacamos todas las columnas\n",
    "         y_feature = var_pred_labels[ite] #Sacamos la columna que queremos analizar\n",
    "         x_features.remove(y_feature) #removemos nuestra columna target del resto\n",
    "        \n",
    "         x = var_predictoras_df[x_features] #Creamos los datos para x\n",
    "         y = var_predictoras_df[y_feature] # Creamos los datos para el target\n",
    "        \n",
    "         lr_model.fit(var_predictoras_df[x_features], var_predictoras_df[y_feature]) #Entrenamos el modelo\n",
    "        \n",
    "         result[y_feature] = 1/(1 - lr_model.score(var_predictoras_df[x_features], var_predictoras_df[y_feature])) #Realizamos la formula para calcular el VIF de esa columna\n",
    "    \n",
    "     return result.T.sort_values(by=\"VIF\", ascending=False)"
   ]
  },
  {
   "cell_type": "markdown",
   "metadata": {},
   "source": [
    "## Metodo para calcular VIF con un modelo Lasso"
   ]
  },
  {
   "cell_type": "code",
   "execution_count": 23,
   "metadata": {},
   "outputs": [],
   "source": [
    "\n",
    "def calculateVIF_lasso(var_predictoras_df):\n",
    "    var_pred_labels = list(var_predictoras_df.columns)\n",
    "    num_var_pred = len(var_pred_labels)\n",
    "    \n",
    "    result = pd.DataFrame(index = ['VIF'], columns = var_pred_labels)\n",
    "    \n",
    "    for ite in range(num_var_pred):\n",
    "        x_features = var_pred_labels[:]\n",
    "        y_feature = var_pred_labels[ite]\n",
    "        x_features.remove(y_feature)\n",
    "\n",
    "        x = var_predictoras_df[x_features]\n",
    "        y = var_predictoras_df[y_feature]\n",
    "\n",
    "        # Escalamos porque Lasso es sensible a la escala\n",
    "        scaler = StandardScaler()\n",
    "        x_scaled = scaler.fit_transform(x)\n",
    "        y_scaled = StandardScaler().fit_transform(y.values.reshape(-1, 1)).ravel()\n",
    "\n",
    "        # Lasso con validación cruzada para encontrar el mejor alpha\n",
    "        lasso = LassoCV(cv=5, random_state=42, max_iter=10000)\n",
    "        lasso.fit(x_scaled, y_scaled)\n",
    "\n",
    "        r2 = lasso.score(x_scaled, y_scaled)\n",
    "        vif_value = 1 / (1 - r2) if r2 < 1 else float('inf')\n",
    "        result[y_feature] = vif_value\n",
    "\n",
    "    return result.T.sort_values(by=\"VIF\", ascending=False)\n"
   ]
  },
  {
   "cell_type": "markdown",
   "metadata": {},
   "source": [
    "## Metodo para calcular VIF con un modelo Ridge"
   ]
  },
  {
   "cell_type": "code",
   "execution_count": 24,
   "metadata": {},
   "outputs": [],
   "source": [
    "def calculateVIF_ridge(var_predictoras_df):\n",
    "    var_pred_labels = list(var_predictoras_df.columns)\n",
    "    num_var_pred = len(var_pred_labels)\n",
    "    \n",
    "    result = pd.DataFrame(index = ['VIF'], columns = var_pred_labels)\n",
    "    \n",
    "    for ite in range(num_var_pred):\n",
    "        x_features = var_pred_labels[:]\n",
    "        y_feature = var_pred_labels[ite]\n",
    "        x_features.remove(y_feature)\n",
    "\n",
    "        x = var_predictoras_df[x_features]\n",
    "        y = var_predictoras_df[y_feature]\n",
    "\n",
    "        # Escalamos porque Ridge es sensible a la escala\n",
    "        scaler = StandardScaler()\n",
    "        x_scaled = scaler.fit_transform(x)\n",
    "        y_scaled = StandardScaler().fit_transform(y.values.reshape(-1, 1)).ravel()\n",
    "\n",
    "        # Ridge con validación cruzada para encontrar el mejor alpha\n",
    "        ridge = RidgeCV(cv=5)\n",
    "        ridge.fit(x_scaled, y_scaled)\n",
    "\n",
    "        r2 = ridge.score(x_scaled, y_scaled)\n",
    "        vif_value = 1 / (1 - r2) if r2 < 1 else float('inf')\n",
    "        result[y_feature] = vif_value\n",
    "\n",
    "    return result.T.sort_values(by=\"VIF\", ascending=False)"
   ]
  },
  {
   "cell_type": "markdown",
   "metadata": {},
   "source": [
    "## Importamos los datos"
   ]
  },
  {
   "cell_type": "code",
   "execution_count": 25,
   "metadata": {},
   "outputs": [],
   "source": [
    "direction_train = \"../Train_knight.csv\"\n",
    "data = pd.read_csv(direction_train)\n",
    "data[\"knight\"] = data[\"knight\"].map({\"Jedi\": 1, \"Sith\": 0})"
   ]
  },
  {
   "cell_type": "markdown",
   "metadata": {},
   "source": [
    "## Procesamos los datos"
   ]
  },
  {
   "cell_type": "code",
   "execution_count": 26,
   "metadata": {},
   "outputs": [],
   "source": [
    "X = data.drop(\"knight\", axis=1)\n",
    "\n",
    "scaler = StandardScaler()\n",
    "X_normalized = scaler.fit_transform(X)\n",
    "X_normalized = pd.DataFrame(X_normalized, columns=X.columns)"
   ]
  },
  {
   "cell_type": "markdown",
   "metadata": {},
   "source": [
    "## Calculamos VIF"
   ]
  },
  {
   "cell_type": "code",
   "execution_count": 48,
   "metadata": {},
   "outputs": [
    {
     "name": "stderr",
     "output_type": "stream",
     "text": [
      "/var/folders/cz/_60q6gpj4kxc5qmxykyvhyfr0000gn/T/ipykernel_20771/1415708530.py:8: FutureWarning: Downcasting object dtype arrays on .fillna, .ffill, .bfill is deprecated and will change in a future version. Call result.infer_objects(copy=False) instead. To opt-in to the future behavior, set `pd.set_option('future.no_silent_downcasting', True)`\n",
      "  result = result.fillna(0)\n"
     ]
    },
    {
     "name": "stdout",
     "output_type": "stream",
     "text": [
      "                 VIF_Lasso    VIF_Ridge      VIF_Reg\n",
      "Strength       2513.809675  4178.462950  4489.653450\n",
      "Sensitivity    2139.547229  4134.233130  4367.233204\n",
      "Recovery        487.232037   618.184037   782.388684\n",
      "Power           302.516910   405.143815   411.965245\n",
      "Sprint          282.855384   353.134389   359.129874\n",
      "Stims           270.665297   330.881047   346.022133\n",
      "Slash            65.553042    78.346997    80.754427\n",
      "Pull             63.646589    72.428095    73.911907\n",
      "Awareness        62.217280    67.872474    69.852627\n",
      "Prescience       53.845545    54.186763    54.712644\n",
      "Lightsaber       43.433526    46.745628    47.550260\n",
      "Dexterity        39.575415    45.748316    54.126657\n",
      "Attunement       32.342326    28.994658    33.904833\n",
      "Empowered        31.047759    30.001861    36.224859\n",
      "Delay            23.527120    30.418466    35.987392\n",
      "Friendship       17.189769    14.808709    19.040267\n",
      "Grasping         15.992533    17.496006    19.758797\n",
      "Evade            15.756696    16.399529    17.630598\n",
      "Midi-chlorien    14.437841    14.297526    14.650093\n",
      "Repulse          12.324657    13.748808    15.259597\n",
      "Blocking         11.075560    14.473219    14.581072\n",
      "Mass             10.151726     8.956538    10.477189\n",
      "Hability          9.951924    10.294575    11.188825\n",
      "Combo             9.283406     9.303728     9.860934\n",
      "Burst             8.364681     8.165270     8.649491\n",
      "Agility           7.296690     7.441425     7.645518\n",
      "Deflection        4.221709     4.234272     4.550873\n",
      "Reactivity        3.953632     4.040854     4.074260\n",
      "Push              3.651255     4.051862     4.065017\n",
      "Survival          2.703836     3.363717     3.630928\n"
     ]
    }
   ],
   "source": [
    "vif_reg = calculateVIF(X)\n",
    "vif_lasso = calculateVIF_lasso(X)\n",
    "vif_ridge = calculateVIF_ridge(X)\n",
    "\n",
    "vif_reg.columns = ['VIF_Reg']\n",
    "vif_lasso.columns = ['VIF_Lasso']\n",
    "vif_ridge.columns = ['VIF_Ridge']\n",
    "\n",
    "vif_combined = pd.concat([vif_lasso, vif_ridge, vif_reg], axis=1)\n",
    "\n",
    "print (vif_combined.sort_values(\"VIF_Lasso\",ascending=False))"
   ]
  },
  {
   "cell_type": "markdown",
   "metadata": {},
   "source": [
    "## Elegimos Aquellas columnas cuyo VIF es < 5"
   ]
  },
  {
   "cell_type": "code",
   "execution_count": 47,
   "metadata": {},
   "outputs": [
    {
     "name": "stdout",
     "output_type": "stream",
     "text": [
      "- VIF_Lasso -\n",
      "            VIF_Lasso\n",
      "Deflection   4.221709\n",
      "Reactivity   3.953632\n",
      "Push         3.651255\n",
      "Survival     2.703836\n",
      "\n",
      "- VIF_Ridge -\n",
      "            VIF_Ridge\n",
      "Deflection   4.234272\n",
      "Push         4.051862\n",
      "Reactivity   4.040854\n",
      "Survival     3.363717\n",
      "\n",
      "- VIF_Reg -\n",
      "             VIF_Reg\n",
      "Deflection  4.550873\n",
      "Reactivity  4.074260\n",
      "Push        4.065017\n",
      "Survival    3.630928\n",
      "\n"
     ]
    }
   ],
   "source": [
    "def select_columns_vif_lower_5(vif_data):\n",
    "    vif_5 = vif_data[(vif_data < 5)]\n",
    "    vif_5.dropna(inplace = True)\n",
    "    print (\"-\",vif_5.columns[0],\"-\")\n",
    "    print (vif_5)\n",
    "    print()\n",
    "    \n",
    "select_columns_vif_lower_5(vif_lasso)\n",
    "select_columns_vif_lower_5(vif_ridge)\n",
    "select_columns_vif_lower_5(vif_reg)"
   ]
  }
 ],
 "metadata": {
  "kernelspec": {
   "display_name": "Python 3 (ipykernel)",
   "language": "python",
   "name": "python3"
  },
  "language_info": {
   "codemirror_mode": {
    "name": "ipython",
    "version": 3
   },
   "file_extension": ".py",
   "mimetype": "text/x-python",
   "name": "python",
   "nbconvert_exporter": "python",
   "pygments_lexer": "ipython3",
   "version": "3.12.9"
  }
 },
 "nbformat": 4,
 "nbformat_minor": 4
}
