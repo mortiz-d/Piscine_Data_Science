{
 "cells": [
  {
   "cell_type": "markdown",
   "metadata": {
    "vscode": {
     "languageId": "plaintext"
    }
   },
   "source": [
    "# KNeighborsClassifier "
   ]
  },
  {
   "cell_type": "markdown",
   "metadata": {},
   "source": [
    "## Importamos las librerias"
   ]
  },
  {
   "cell_type": "code",
   "execution_count": 122,
   "metadata": {
    "vscode": {
     "languageId": "plaintext"
    }
   },
   "outputs": [],
   "source": [
    "from sklearn.neighbors import KNeighborsClassifier\n",
    "from sklearn.model_selection import cross_val_score\n",
    "\n",
    "import pandas as pd\n",
    "from sklearn.preprocessing import MinMaxScaler\n",
    "from sklearn.model_selection import train_test_split\n",
    "import matplotlib.pyplot as plt\n",
    "import seaborn as sns\n",
    "import numpy as np\n",
    "\n",
    "from sklearn.metrics import confusion_matrix \t\t#Usar para comprobar resultados\n",
    "from sklearn.metrics import classification_report \t#Usar para comprobar resultados\n",
    "\n"
   ]
  },
  {
   "cell_type": "markdown",
   "metadata": {},
   "source": [
    "## Cargamos los datos en el notebook"
   ]
  },
  {
   "cell_type": "code",
   "execution_count": 123,
   "metadata": {
    "vscode": {
     "languageId": "plaintext"
    }
   },
   "outputs": [],
   "source": [
    "direction_train = \"../Train_knight.csv\"\n",
    "direction_xtest = \"../Test_knight.csv\"\n",
    "\n",
    "x = pd.read_csv(direction_train)\n",
    "x[\"knight\"] = x[\"knight\"].map({\"Jedi\": 1, \"Sith\": 0})\n",
    "y = x[\"knight\"]\n",
    "x = x.drop(\"knight\", axis=1)"
   ]
  },
  {
   "cell_type": "markdown",
   "metadata": {},
   "source": [
    "## Transformamos los datos (Standarizacion)"
   ]
  },
  {
   "cell_type": "code",
   "execution_count": 124,
   "metadata": {},
   "outputs": [],
   "source": [
    "scaler = MinMaxScaler()\n",
    "x_normalized = scaler.fit_transform(x)\n",
    "\n",
    "# Convertimos de nuevo a DataFrame para que sea legible\n",
    "x_normalized = pd.DataFrame(x_normalized, columns=x.columns)"
   ]
  },
  {
   "cell_type": "markdown",
   "metadata": {},
   "source": [
    "## Separamos los datos en testing y training"
   ]
  },
  {
   "cell_type": "code",
   "execution_count": 125,
   "metadata": {},
   "outputs": [],
   "source": [
    "x_train, x_test, y_train, y_test = train_test_split(x_normalized, y,test_size=0.2, random_state=42)"
   ]
  },
  {
   "cell_type": "markdown",
   "metadata": {},
   "source": [
    "## Reutilizamos el codigo del calculo de las matrices de confusion"
   ]
  },
  {
   "cell_type": "code",
   "execution_count": 126,
   "metadata": {},
   "outputs": [],
   "source": [
    "def calculate_matrix(y, y_predict):\n",
    "    matrix = [[0, 0], [0, 0]]  # [[TP, FP], [FN, TN]]\n",
    "    \n",
    "    for index in range(len(y)):\n",
    "        true_val = y.iloc[index]\n",
    "        pred_val = y_predict[index]\n",
    "\n",
    "        if true_val == 1 and pred_val == 1:  # True Positive\n",
    "            matrix[0][0] += 1\n",
    "        elif true_val == 0 and pred_val == 1:  # False Positive\n",
    "            matrix[0][1] += 1\n",
    "        elif true_val == 1 and pred_val == 0:  # False Negative\n",
    "            matrix[1][0] += 1\n",
    "        elif true_val == 0 and pred_val == 0:  # True Negative\n",
    "            matrix[1][1] += 1\n",
    "\n",
    "    return matrix\n",
    "\n",
    "def calculate_metrics(matrix):\n",
    "    #Base metrics\n",
    "    TP = matrix[0][0]\n",
    "    FN = matrix[0][1]\n",
    "    FP = matrix[1][0]\n",
    "    TN = matrix[1][1]\n",
    "\n",
    "    #Metrics for jedi\n",
    "    precision_j = TP / (TP + FP) #precision para determinar un jedi\n",
    "    recall_j = TP / (TP + FN) #sensibilidad para determinar un jedi\n",
    "    f1_score_j = (2 * (precision_j * recall_j)) / (precision_j + recall_j)\n",
    "    total_j = TP + FN #Total of jedis\n",
    "\n",
    "    #Shit (i didnt meant sith) Metrics\n",
    "    precision_s = TN / (TN + FN) #precision para determinar un sith\n",
    "    recall_s = TN / (TN + FP) #sensibilidad para determinar un sith\n",
    "    f1_score_s = (2 * (precision_s * recall_s)) / (precision_s + recall_s)\n",
    "    total_s = TN + FP #Total of shits\n",
    "\n",
    "\t#accuracy over total predictions\n",
    "    accuracy = (TP + TN) / (TP + TN + FP + FN)\n",
    "    total = TP + TN + FP + FN\n",
    "\n",
    "    print(f\"{'':<10}{'precision':>10}{'recall':>10}{'f1-score':>12}{'total':>8}\")\n",
    "    print(f\"{'Jedi : 1':<10}{precision_j:>10.2f}{recall_j:>10.2f}{f1_score_j:>12.2f}{total_j:>8}\")\n",
    "    print(f\"{'Sith : 0':<10}{precision_s:>10.2f}{recall_s:>10.2f}{f1_score_s:>12.2f}{total_s:>8}\")\n",
    "    print(f\"{'accuracy':<30}{accuracy:>12.2f}{total:>8}\")\n",
    "    return\n",
    "#       Confusion Table\n",
    "#           Predicción\n",
    "#           1     0\n",
    "#Real  1 | TP | FN |\n",
    "#      0 | FP | TN |\n",
    "def plot_confusion_matrix(matrix):\n",
    "    ax= plt.subplot()\n",
    "    sns.heatmap(matrix, annot=True, ax = ax)\n",
    "    ax.set_xlabel('Predicted labels')\n",
    "    ax.set_ylabel('True labels')\n",
    "    ax.set_title('Confusion Matrix'); \n",
    "    ax.xaxis.set_ticklabels(['Jedi : 1', 'Sith : 0']); ax.yaxis.set_ticklabels(['Jedi : 1', 'Sith : 0'])\n",
    "    plt.show()"
   ]
  },
  {
   "cell_type": "markdown",
   "metadata": {},
   "source": [
    "## Creamos el objeto modelo y lo cargamos"
   ]
  },
  {
   "cell_type": "code",
   "execution_count": 127,
   "metadata": {},
   "outputs": [],
   "source": [
    "\n",
    "k_range = range(1, 31)\n",
    "#k_range\n",
    "best_score = 0\n",
    "best_k = 1\n",
    "scores = []\n",
    "\n",
    "for k in k_range:\n",
    "    knn = KNeighborsClassifier(n_neighbors = k) #Aqui modificamos el numero de \"vacinos\" en los datos para aproximarnos\n",
    "    score = cross_val_score(knn, x_train, y_train, cv= 6, scoring='accuracy')\n",
    "\n",
    "    avg_score = score.mean()\n",
    "    \n",
    "    if avg_score > best_score:\n",
    "        best_score = avg_score\n",
    "        best_k = k\n",
    "    scores.append([k,avg_score])"
   ]
  },
  {
   "cell_type": "markdown",
   "metadata": {},
   "source": [
    "## Realizamos las predicciones"
   ]
  },
  {
   "cell_type": "code",
   "execution_count": 128,
   "metadata": {},
   "outputs": [
    {
     "data": {
      "text/html": [
       "<div>\n",
       "<style scoped>\n",
       "    .dataframe tbody tr th:only-of-type {\n",
       "        vertical-align: middle;\n",
       "    }\n",
       "\n",
       "    .dataframe tbody tr th {\n",
       "        vertical-align: top;\n",
       "    }\n",
       "\n",
       "    .dataframe thead th {\n",
       "        text-align: right;\n",
       "    }\n",
       "</style>\n",
       "<table border=\"1\" class=\"dataframe\">\n",
       "  <thead>\n",
       "    <tr style=\"text-align: right;\">\n",
       "      <th></th>\n",
       "      <th>k</th>\n",
       "      <th>accuracy</th>\n",
       "    </tr>\n",
       "  </thead>\n",
       "  <tbody>\n",
       "    <tr>\n",
       "      <th>0</th>\n",
       "      <td>1</td>\n",
       "      <td>0.918239</td>\n",
       "    </tr>\n",
       "    <tr>\n",
       "      <th>1</th>\n",
       "      <td>2</td>\n",
       "      <td>0.933962</td>\n",
       "    </tr>\n",
       "    <tr>\n",
       "      <th>2</th>\n",
       "      <td>3</td>\n",
       "      <td>0.949686</td>\n",
       "    </tr>\n",
       "    <tr>\n",
       "      <th>3</th>\n",
       "      <td>4</td>\n",
       "      <td>0.955975</td>\n",
       "    </tr>\n",
       "    <tr>\n",
       "      <th>4</th>\n",
       "      <td>5</td>\n",
       "      <td>0.952830</td>\n",
       "    </tr>\n",
       "    <tr>\n",
       "      <th>5</th>\n",
       "      <td>6</td>\n",
       "      <td>0.952830</td>\n",
       "    </tr>\n",
       "    <tr>\n",
       "      <th>6</th>\n",
       "      <td>7</td>\n",
       "      <td>0.952830</td>\n",
       "    </tr>\n",
       "    <tr>\n",
       "      <th>7</th>\n",
       "      <td>8</td>\n",
       "      <td>0.946541</td>\n",
       "    </tr>\n",
       "    <tr>\n",
       "      <th>8</th>\n",
       "      <td>9</td>\n",
       "      <td>0.943396</td>\n",
       "    </tr>\n",
       "    <tr>\n",
       "      <th>9</th>\n",
       "      <td>10</td>\n",
       "      <td>0.937107</td>\n",
       "    </tr>\n",
       "  </tbody>\n",
       "</table>\n",
       "</div>"
      ],
      "text/plain": [
       "    k  accuracy\n",
       "0   1  0.918239\n",
       "1   2  0.933962\n",
       "2   3  0.949686\n",
       "3   4  0.955975\n",
       "4   5  0.952830\n",
       "5   6  0.952830\n",
       "6   7  0.952830\n",
       "7   8  0.946541\n",
       "8   9  0.943396\n",
       "9  10  0.937107"
      ]
     },
     "execution_count": 128,
     "metadata": {},
     "output_type": "execute_result"
    }
   ],
   "source": [
    "df = pd.DataFrame(scores, columns=['k', 'accuracy'])\n",
    "df.head(10)"
   ]
  },
  {
   "cell_type": "code",
   "execution_count": 129,
   "metadata": {},
   "outputs": [],
   "source": [
    "## Realizamos el plot para visualizar "
   ]
  },
  {
   "cell_type": "code",
   "execution_count": 130,
   "metadata": {},
   "outputs": [
    {
     "data": {
      "image/png": "[encoded data removed]",
      "text/plain": [
       "<Figure size 1000x600 with 1 Axes>"
      ]
     },
     "metadata": {},
     "output_type": "display_data"
    }
   ],
   "source": [
    "\n",
    "plt.figure(figsize=(10, 6))\n",
    "sns.lineplot(data=df, x=\"k\", y=\"accuracy\", marker= '.')\n",
    "plt.xticks(rotation=45)\n",
    "plt.xticks(df['k'], rotation=45)\n",
    "plt.xlabel('Número de Vecinos (k)')\n",
    "plt.ylabel('Precisión')\n",
    "plt.title('Curva de Precisión vs Número de Vecinos')\n",
    "plt.grid(True)\n",
    "plt.show()"
   ]
  },
  {
   "cell_type": "code",
   "execution_count": null,
   "metadata": {},
   "outputs": [],
   "source": []
  }
 ],
 "metadata": {
  "kernelspec": {
   "display_name": "Python 3 (ipykernel)",
   "language": "python",
   "name": "python3"
  },
  "language_info": {
   "codemirror_mode": {
    "name": "ipython",
    "version": 3
   },
   "file_extension": ".py",
   "mimetype": "text/x-python",
   "name": "python",
   "nbconvert_exporter": "python",
   "pygments_lexer": "ipython3",
   "version": "3.12.9"
  }
 },
 "nbformat": 4,
 "nbformat_minor": 4
}
